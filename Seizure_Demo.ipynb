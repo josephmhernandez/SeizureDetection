{
  "nbformat": 4,
  "nbformat_minor": 0,
  "metadata": {
    "colab": {
      "name": "Seizure_Demo.ipynb",
      "provenance": [],
      "collapsed_sections": [],
      "toc_visible": true,
      "authorship_tag": "ABX9TyNq7fbXkeZr+1qXX66vneCI",
      "include_colab_link": true
    },
    "kernelspec": {
      "name": "python3",
      "display_name": "Python 3"
    },
    "accelerator": "GPU"
  },
  "cells": [
    {
      "cell_type": "markdown",
      "metadata": {
        "id": "view-in-github",
        "colab_type": "text"
      },
      "source": [
        "<a href=\"https://colab.research.google.com/github/josephmhernandez/SeizureDetection/blob/master/Seizure_Demo.ipynb\" target=\"_parent\"><img src=\"https://colab.research.google.com/assets/colab-badge.svg\" alt=\"Open In Colab\"/></a>"
      ]
    },
    {
      "cell_type": "code",
      "metadata": {
        "id": "L3YcC4mO1zj6",
        "colab_type": "code",
        "colab": {}
      },
      "source": [
        "#  Upload model weights.340.hdf5\n",
        "from google.colab import files\n",
        "src = list(files.upload().values())[0]"
      ],
      "execution_count": 0,
      "outputs": []
    },
    {
      "cell_type": "code",
      "metadata": {
        "id": "F6LQGRFTAZpb",
        "colab_type": "code",
        "colab": {}
      },
      "source": [
        "#Input Data. \n",
        "\n",
        "link_video = 'https://www.youtube.com/watch?v=ZqFK17oK2ys'\n",
        " "
      ],
      "execution_count": 0,
      "outputs": []
    },
    {
      "cell_type": "code",
      "metadata": {
        "id": "gaEZTqSVQNz_",
        "colab_type": "code",
        "outputId": "caf83e1f-0ffd-4a00-e2ab-9fda1f07cdfc",
        "colab": {
          "base_uri": "https://localhost:8080/",
          "height": 806
        }
      },
      "source": [
        "!pip install youtube_dl\n",
        "!pip install pafy\n",
        "\n",
        "import youtube_dl\n",
        "import os\n",
        "import pafy\n",
        "import numpy as np\n",
        "\n",
        "\n",
        "ydl = youtube_dl.YoutubeDL({'outtmpl': '%(id)s%(ext)s'})\n",
        "\n",
        "with ydl:\n",
        "    result = ydl.extract_info(\n",
        "        link_video,\n",
        "        download=True\n",
        "    )\n",
        "\n",
        "if 'entries' in result:\n",
        "    # Can be a playlist or a list of videos\n",
        "    video = result['entries'][0]\n",
        "else:\n",
        "    # Just a video\n",
        "    video = result\n",
        "\n",
        "# print(video)\n",
        "title = video['id']\n",
        "\n",
        "file_list = np.array(os.listdir(path=None))\n",
        "video_name = None\n",
        "# print(file_list)\n",
        "for a in file_list:\n",
        "    if(title in a):\n",
        "        print('here')\n",
        "        video_name = a\n",
        "        break\n",
        "\n",
        "nvideo = pafy.new(link_video)\n",
        "video_duration=nvideo.length \n",
        "\n",
        "os.rename(video_name, nvideo.title + '.' + video['ext'])\n",
        "video_name = nvideo.title + '.' + video['ext']\n",
        "title = nvideo.title\n",
        "\n",
        "\n",
        "print(video_name)\n",
        "\n",
        "\n",
        "#Load Open Pose\n",
        "import os\n",
        "from os.path import exists, join, basename, splitext\n",
        "\n",
        "git_repo_url = 'https://github.com/CMU-Perceptual-Computing-Lab/openpose.git'\n",
        "project_name = splitext(basename(git_repo_url))[0]\n",
        "if not exists(project_name):\n",
        "  # see: https://github.com/CMU-Perceptual-Computing-Lab/openpose/issues/949\n",
        "  # install new CMake becaue of CUDA10\n",
        "  !wget -q https://cmake.org/files/v3.13/cmake-3.13.0-Linux-x86_64.tar.gz\n",
        "  !tar xfz cmake-3.13.0-Linux-x86_64.tar.gz --strip-components=1 -C /usr/local\n",
        "  # clone openpose\n",
        "  !git clone -q --depth 1 $git_repo_url\n",
        "  !sed -i 's/execute_process(COMMAND git checkout master WORKING_DIRECTORY ${CMAKE_SOURCE_DIR}\\/3rdparty\\/caffe)/execute_process(COMMAND git checkout f019d0dfe86f49d1140961f8c7dec22130c83154 WORKING_DIRECTORY ${CMAKE_SOURCE_DIR}\\/3rdparty\\/caffe)/g' openpose/CMakeLists.txt\n",
        "  # install system dependencies\n",
        "  !apt-get -qq install -y libatlas-base-dev libprotobuf-dev libleveldb-dev libsnappy-dev libhdf5-serial-dev protobuf-compiler libgflags-dev libgoogle-glog-dev liblmdb-dev opencl-headers ocl-icd-opencl-dev libviennacl-dev\n",
        "  # install python dependencies\n",
        "  !pip install -q youtube-dl\n",
        "  # build openpose\n",
        "  !cd openpose && rm -rf build || true && mkdir build && cd build && cmake .. && make -j`nproc`\n",
        "\n",
        "\n",
        "#Generate openPose Outputs\n",
        "newvidInput = video_name \n",
        "newvidOutput = '/content/landmarks_' + title + '.avi'\n",
        "newJsonOutput = title + '_landmarks1'\n",
        "\n",
        "!./openpose/build/examples/openpose/openpose.bin --video {newvidInput} --write_video {newvidOutput} --write_json {newJsonOutput} --model_folder openpose/models --disable_blending --display 0 --number_people_max 1 --scale_number 4 --scale_gap 0.25 --keypoint_scale 3\n",
        "\n",
        "num_landmark_outputs = len(os.listdir(newJsonOutput))\n",
        "\n",
        "\n",
        "\n",
        "#Iterate through JSON files and save as npy files. \n",
        "import json\n",
        "print('Change JSON files to npy files....')\n",
        "jsonFiles = np.array(os.listdir(newJsonOutput))\n",
        "rtnList = np.zeros((len(jsonFiles),50)) \n",
        "jsonFiles.sort()\n",
        "\n",
        "\n",
        "for i,jsonFile in enumerate(jsonFiles): \n",
        "    with open(newJsonOutput + '/' + jsonFiles[i]) as jsonOutput:\n",
        "        data = json.load(jsonOutput)\n",
        "        try:\n",
        "            bodyLandmarks = data['people'][0]['pose_keypoints_2d']    \n",
        "            #Get rid of the confidence of points\n",
        "            bodyLandmarks = [xx for p, xx in enumerate(bodyLandmarks) if p%3 !=2]\n",
        "            rtnList[i,] = bodyLandmarks\n",
        "        except:\n",
        "            # print('oof.' + str(i))\n",
        "            # print(data)\n",
        "            continue\n",
        "\n",
        "#Convert (frames, 50) np.array to a .npy file\n",
        "#Fill in sparse data. \n",
        "rtnData = np.zeros((len(rtnList), 50))\n",
        "_prevValues = np.zeros(50)       \n",
        "for j,features in enumerate(rtnList):\n",
        "    _values = np.zeros(50)\n",
        "    for i,f in enumerate(features): \n",
        "        #Iterate over 50 values. \n",
        "        if f == 0:\n",
        "            _values[i] = _prevValues[i]\n",
        "        else:\n",
        "            #f != 0:\n",
        "            _values[i] = f\n",
        "            _prevValues[i] = f\n",
        "\n",
        "    rtnData[j,] = _values\n",
        "\n",
        "np.save(title + '.npy', rtnData)\n",
        "\n",
        "#Load model. \n",
        "from keras.models import load_model\n",
        "\n",
        "#Define F1 score. \n",
        "import keras.backend as K\n",
        "def precision_m(y_true, y_pred):\n",
        "    true_positives = K.sum(K.round(K.clip(y_true * y_pred, 0, 1)))\n",
        "    predicted_positives = K.sum(K.round(K.clip(y_pred, 0, 1)))\n",
        "    precision = true_positives / (predicted_positives + K.epsilon())\n",
        "    return precision\n",
        "\n",
        "def recall_m(y_true, y_pred):\n",
        "    true_positives = K.sum(K.round(K.clip(y_true * y_pred, 0, 1)))\n",
        "    possible_positives = K.sum(K.round(K.clip(y_true, 0, 1)))\n",
        "    recall = true_positives / (possible_positives + K.epsilon())\n",
        "    return recall\n",
        "\n",
        "\n",
        "def f1_score(y_true, y_pred):\n",
        "    # Model Dependency. \n",
        "    # Count positive samples.\n",
        "    c1 = K.sum(K.round(K.clip(y_true * y_pred, 0, 1)))\n",
        "    c2 = K.sum(K.round(K.clip(y_pred, 0, 1)))\n",
        "    c3 = K.sum(K.round(K.clip(y_true, 0, 1)))\n",
        "\n",
        "    # If there are no true samples, fix the F1 score at 0.\n",
        "    if c3 == 0:\n",
        "        return 0\n",
        "\n",
        "    # How many selected items are relevant?\n",
        "    precision = c1 / c2\n",
        "\n",
        "    # How many relevant items are selected?\n",
        "    recall = c1 / c3\n",
        "\n",
        "    # Calculate f1_score\n",
        "    f1_score = 2 * (precision * recall) / (precision + recall)\n",
        "\n",
        "    return f1_score\n",
        "\n",
        "model_path = 'weights.340.hdf5'\n",
        "\n",
        "#Model dependencies. \n",
        "dependencies = {\n",
        "    'f1_score': f1_score,\n",
        "    'precision_m': precision_m,\n",
        "    'recall_m': recall_m\n",
        "}\n",
        "my_model = load_model(model_path, custom_objects=dependencies)\n",
        "\n",
        "\n",
        "data = np.load(title + '.npy')\n",
        "\n",
        "print('Data: ' + title)\n",
        "seconds = video_duration\n",
        "\n",
        "\n",
        "frames = num_landmark_outputs\n",
        "fps = num_landmark_outputs / seconds\n",
        "\n",
        "\n",
        "\n",
        "pred_data = [] #[ [timestamp (s) , p-value], ... ]\n",
        "time_vals = []\n",
        "pred_vals = []\n",
        "for t in range(0, seconds):\n",
        "    _curr_frame = round(t * fps)\n",
        "    if ((_curr_frame - 40) < 0) or (_curr_frame + 40 > frames - 1):\n",
        "        print('nope')\n",
        "        pred_data.append([t,0])\n",
        "        time_vals.append(t)\n",
        "        pred_vals.append(0)\n",
        "    else:\n",
        "        _use = data[_curr_frame - 40 : _curr_frame + 40,]\n",
        "        _pval = float(my_model.predict(x=_use.reshape(1,80,50)))\n",
        "        pred_data.append([t,_pval])\n",
        "        time_vals.append(t)\n",
        "\n",
        "        pred_vals.append(_pval)\n",
        "\n",
        "#Plot results.\n",
        "import matplotlib.pyplot as plt\n",
        "\n",
        "plt.figure()\n",
        "plt.plot(time_vals, pred_vals, 'ro')\n",
        "plt.xlabel('Time (s)')\n",
        "plt.ylabel('P-Value')\n",
        "plt.plot(range(len(time_vals)), [.5 for x in range(len(time_vals))], 'b--')\n",
        "plt.savefig(title + '.png')\n",
        "\n",
        "plt.show()\n",
        "\n",
        "my_dict = {}\n",
        "my_dict['seizure'] = pred_data\n",
        "import json\n",
        "with open(title + '.json', 'w') as fp:\n",
        "    json.dump(my_dict, fp)"
      ],
      "execution_count": 0,
      "outputs": [
        {
          "output_type": "stream",
          "text": [
            "Requirement already satisfied: youtube_dl in /usr/local/lib/python3.6/dist-packages (2020.3.24)\n",
            "Requirement already satisfied: pafy in /usr/local/lib/python3.6/dist-packages (0.5.5)\n",
            "[youtube] ZqFK17oK2ys: Downloading webpage\n",
            "[youtube] ZqFK17oK2ys: Downloading MPD manifest\n"
          ],
          "name": "stdout"
        },
        {
          "output_type": "stream",
          "text": [
            "WARNING: Requested formats are incompatible for merge and will be merged into mkv.\n"
          ],
          "name": "stderr"
        },
        {
          "output_type": "stream",
          "text": [
            "[dashsegments] Total fragments: 7\n",
            "[download] Destination: ZqFK17oK2yswebm.f242\n",
            "[download] 100% of 538.36KiB in 00:04\n",
            "[dashsegments] Total fragments: 5\n",
            "[download] Destination: ZqFK17oK2ysm4a.f140\n",
            "[download] 100% of 516.26KiB in 00:02\n",
            "[ffmpeg] Merging formats into \"ZqFK17oK2yswebm.mkv\"\n",
            "Deleting original file ZqFK17oK2yswebm.f242 (pass -k to keep)\n",
            "Deleting original file ZqFK17oK2ysm4a.f140 (pass -k to keep)\n",
            "here\n",
            "Sec-vid-4.webm\n",
            "Starting OpenPose demo...\n",
            "Configuring OpenPose...\n",
            "Starting thread(s)...\n",
            "Auto-detecting all available GPUs... Detected 1 GPU(s), using 1 of them starting at GPU 0.\n",
            "Empty frame detected, frame number 977 of 979. In /content/openpose/src/openpose/producer/producer.cpp:checkFrameIntegrity():290\n",
            "Empty frame detected, frame number 977 of 979. In /content/openpose/src/openpose/producer/producer.cpp:checkFrameIntegrity():290\n",
            "Empty frame detected, frame number 977 of 979. In /content/openpose/src/openpose/producer/producer.cpp:checkFrameIntegrity():290\n",
            "OpenPose demo successfully finished. Total time: 123.015804 seconds.\n",
            "Change JSON files to npy files....\n",
            "Data: Sec-vid-4\n",
            "nope\n",
            "nope\n",
            "nope\n"
          ],
          "name": "stdout"
        },
        {
          "output_type": "display_data",
          "data": {
            "image/png": "[encoded data removed]",
            "text/plain": [
              "<Figure size 432x288 with 1 Axes>"
            ]
          },
          "metadata": {
            "tags": []
          }
        }
      ]
    },
    {
      "cell_type": "code",
      "metadata": {
        "id": "aYUf5jHuAQux",
        "colab_type": "code",
        "outputId": "3a2147f7-86ae-4cdd-d364-aa30692fe005",
        "colab": {
          "base_uri": "https://localhost:8080/",
          "height": 55
        }
      },
      "source": [
        "import numpy as np\n",
        "a = np.load('Sec-vid-5.npy')\n",
        "print(my_dict)"
      ],
      "execution_count": 0,
      "outputs": [
        {
          "output_type": "stream",
          "text": [
            "{'seizure': [[0, 0], [1, 0], [2, 0.00021640927297994494], [3, 0.0], [4, 0.0], [5, 0.0], [6, 0.0], [7, 0.0], [8, 0.0], [9, 0.0], [10, 0.0], [11, 0.0], [12, 0.0], [13, 0.0], [14, 0.0], [15, 0.0], [16, 0.0], [17, 0.0], [18, 0.0], [19, 0.0], [20, 0.0], [21, 0.0], [22, 0.0], [23, 0.0], [24, 0.0], [25, 0.0], [26, 0.0], [27, 0.0], [28, 0.0], [29, 0.0], [30, 0.0], [31, 0.0], [32, 0.0], [33, 0.0], [34, 0.0], [35, 0.0], [36, 0]]}\n"
          ],
          "name": "stdout"
        }
      ]
    },
    {
      "cell_type": "code",
      "metadata": {
        "id": "HIamdepfSUSS",
        "colab_type": "code",
        "colab": {}
      },
      "source": [
        ""
      ],
      "execution_count": 0,
      "outputs": []
    }
  ]
}